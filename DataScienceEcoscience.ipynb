{
 "cells": [
  {
   "cell_type": "markdown",
   "id": "d0bf22aa-1093-4c07-a8e1-996d436cb201",
   "metadata": {},
   "source": [
    "# Data Science Tools and Ecosystem"
   ]
  },
  {
   "cell_type": "markdown",
   "id": "722d9e0a-e0fb-4a89-9dba-eeb8ebd920ea",
   "metadata": {},
   "source": [
    "In this notebook, Data Science Tools and Ecosystem are summarized."
   ]
  },
  {
   "cell_type": "markdown",
   "id": "7f0809b5-c620-4929-966b-88621e2fa59e",
   "metadata": {},
   "source": [
    "**Objectives**\n",
    "\n",
    "* List popular languages for Data Science\n",
    "* List commonly used libraries used by Data Scientists\n",
    "* List three development environment open source tools used in data science\n"
   ]
  },
  {
   "cell_type": "markdown",
   "id": "912d7987-55d7-434a-938b-ba1ecdc25567",
   "metadata": {},
   "source": [
    "## Author\n",
    "\n",
    "Hannah White"
   ]
  },
  {
   "cell_type": "markdown",
   "id": "0ba6b007-1074-484b-affe-fba7755be66e",
   "metadata": {},
   "source": [
    "Some of the popular languages that Data Scientists use are:\n",
    "\n",
    "1. Python\n",
    "2. R\n",
    "3. JavaScript\n",
    "4. SQL\n"
   ]
  },
  {
   "cell_type": "markdown",
   "id": "4006dc12-367a-4c0f-b5d6-78d6186ed082",
   "metadata": {},
   "source": [
    "Some of the commonly used libraries used by Data Scientists include:\n",
    "\n",
    "1. NumPy\n",
    "2. Pandas\n",
    "3. Plotly\n"
   ]
  },
  {
   "cell_type": "markdown",
   "id": "0e0c626b-8d53-41db-a259-e7d89cd396c2",
   "metadata": {},
   "source": [
    "|Data Science Tools|\n",
    "|------------------|\n",
    "|R Studio|\n",
    "|Apache Spark|\n",
    "|Apache Hadoop|"
   ]
  },
  {
   "cell_type": "markdown",
   "id": "f218825a-020d-4124-810a-ea368ef57eeb",
   "metadata": {},
   "source": [
    "### Below are a few examples of evaluating arithmetic expressions in Python"
   ]
  },
  {
   "cell_type": "code",
   "execution_count": 1,
   "id": "849e19c1-9552-49c8-a378-cf4164965c3d",
   "metadata": {},
   "outputs": [
    {
     "data": {
      "text/plain": [
       "17"
      ]
     },
     "execution_count": 1,
     "metadata": {},
     "output_type": "execute_result"
    }
   ],
   "source": [
    "# This a simple arithmetic expression to mutiply then add integers\n",
    "\n",
    "(3*4)+5"
   ]
  },
  {
   "cell_type": "code",
   "execution_count": 3,
   "id": "a8f21e13-b3d7-4b6c-96f4-0c0618341a4d",
   "metadata": {},
   "outputs": [
    {
     "data": {
      "text/plain": [
       "3.3333333333333335"
      ]
     },
     "execution_count": 3,
     "metadata": {},
     "output_type": "execute_result"
    }
   ],
   "source": [
    "# This will convert 200 minutes to hours by diving by 60\n",
    "\n",
    "minutes = 200\n",
    "hours = 60\n",
    "\n",
    "minutes/hours"
   ]
  },
  {
   "cell_type": "code",
   "execution_count": null,
   "id": "fac173ff-ff72-42d0-b0f8-62f101019e34",
   "metadata": {},
   "outputs": [],
   "source": []
  }
 ],
 "metadata": {
  "kernelspec": {
   "display_name": "Python 3 (ipykernel)",
   "language": "python",
   "name": "python3"
  },
  "language_info": {
   "codemirror_mode": {
    "name": "ipython",
    "version": 3
   },
   "file_extension": ".py",
   "mimetype": "text/x-python",
   "name": "python",
   "nbconvert_exporter": "python",
   "pygments_lexer": "ipython3",
   "version": "3.12.4"
  }
 },
 "nbformat": 4,
 "nbformat_minor": 5
}
